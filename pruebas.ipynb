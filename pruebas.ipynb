{
 "cells": [
  {
   "cell_type": "code",
   "execution_count": 1,
   "metadata": {},
   "outputs": [],
   "source": [
    "import pandas as pd\n",
    "\n",
    "# Rutas a los archivos CSV\n",
    "archivo_reflectancias = \"datos\\\\base_de_datos_gis.csv\"  # contiene: fecha,punto,pixel,banda,reflect,longitud,latitud\n",
    "archivo_parametros = \"datos\\\\base_de_datos_lab.csv\"     # contiene: fecha,longitud,latitud,param,valor\n",
    "\n",
    "# Leer los archivos\n",
    "df_reflect = pd.read_csv(archivo_reflectancias)\n",
    "df_param = pd.read_csv(archivo_parametros)\n",
    "\n",
    "# Filtrar los parámetros \"secchi\"\n",
    "df_secchi = df_param[df_param[\"param\"].str.lower() == \"secchi\"]\n",
    "df_reflect = df_reflect[(df_reflect[\"pixel\"] == \"3x3\")]\n",
    "\n",
    "# Merge por fecha y coordenadas\n",
    "merged = pd.merge(\n",
    "    df_secchi,\n",
    "    df_reflect,\n",
    "    on=[\"fecha\", \"latitud\", \"longitud\"],\n",
    "    how=\"inner\"\n",
    ")\n",
    "\n",
    "# Pivotear la tabla para poner bandas como columnas\n",
    "tabla_final = merged.pivot_table(\n",
    "    index=[\"param\", \"fecha\", \"longitud\", \"latitud\", \"valor\"], \n",
    "    columns=\"banda\",\n",
    "    values=\"reflect\"\n",
    ").reset_index()\n",
    "\n",
    "# Reordenar columnas: param | B01 | B02 | ... | B8A\n",
    "bandas = ['B01', 'B02', 'B03', 'B04', 'B05', 'B06', 'B07', 'B08', 'B11', 'B12', 'B8A']\n",
    "columnas_finales = ['valor'] + bandas\n",
    "\n",
    "# Crear Tabla final\n",
    "df = tabla_final[columnas_finales]\n",
    "X = df.drop(columns='valor')\n",
    "y = df['valor']"
   ]
  },
  {
   "cell_type": "code",
   "execution_count": 2,
   "metadata": {},
   "outputs": [
    {
     "data": {
      "text/plain": [
       "{'B01': 'producto\\\\recortes\\\\S2A_MSIL2A_20250626T140111_N0511_R067_T21JUK_20250626T185316\\\\B01_10m.tif',\n",
       " 'B02': 'producto\\\\recortes\\\\S2A_MSIL2A_20250626T140111_N0511_R067_T21JUK_20250626T185316\\\\B02_10m.tif',\n",
       " 'B03': 'producto\\\\recortes\\\\S2A_MSIL2A_20250626T140111_N0511_R067_T21JUK_20250626T185316\\\\B03_10m.tif',\n",
       " 'B04': 'producto\\\\recortes\\\\S2A_MSIL2A_20250626T140111_N0511_R067_T21JUK_20250626T185316\\\\B04_10m.tif',\n",
       " 'B05': 'producto\\\\recortes\\\\S2A_MSIL2A_20250626T140111_N0511_R067_T21JUK_20250626T185316\\\\B05_10m.tif',\n",
       " 'B06': 'producto\\\\recortes\\\\S2A_MSIL2A_20250626T140111_N0511_R067_T21JUK_20250626T185316\\\\B06_10m.tif',\n",
       " 'B07': 'producto\\\\recortes\\\\S2A_MSIL2A_20250626T140111_N0511_R067_T21JUK_20250626T185316\\\\B07_10m.tif',\n",
       " 'B08': 'producto\\\\recortes\\\\S2A_MSIL2A_20250626T140111_N0511_R067_T21JUK_20250626T185316\\\\B08_10m.tif',\n",
       " 'B8A': 'producto\\\\recortes\\\\S2A_MSIL2A_20250626T140111_N0511_R067_T21JUK_20250626T185316\\\\B8A_10m.tif',\n",
       " 'B09': 'producto\\\\recortes\\\\S2A_MSIL2A_20250626T140111_N0511_R067_T21JUK_20250626T185316\\\\B09_10m.tif',\n",
       " 'B11': 'producto\\\\recortes\\\\S2A_MSIL2A_20250626T140111_N0511_R067_T21JUK_20250626T185316\\\\B11_10m.tif',\n",
       " 'B12': 'producto\\\\recortes\\\\S2A_MSIL2A_20250626T140111_N0511_R067_T21JUK_20250626T185316\\\\B12_10m.tif'}"
      ]
     },
     "execution_count": 2,
     "metadata": {},
     "output_type": "execute_result"
    }
   ],
   "source": [
    "import sys\n",
    "sys.path.append(\"scripts\")  # only if your .py is not in the same folder\n",
    "from regresion import *\n",
    "modelo = RegresionLineal(X,y)\n",
    "modelo.stepwise(max_vars = 2, log_X = True, log_y =  True)\n",
    "modelo.mapa(20250626)\n"
   ]
  }
 ],
 "metadata": {
  "kernelspec": {
   "display_name": "Python 3",
   "language": "python",
   "name": "python3"
  },
  "language_info": {
   "codemirror_mode": {
    "name": "ipython",
    "version": 3
   },
   "file_extension": ".py",
   "mimetype": "text/x-python",
   "name": "python",
   "nbconvert_exporter": "python",
   "pygments_lexer": "ipython3",
   "version": "3.12.6"
  }
 },
 "nbformat": 4,
 "nbformat_minor": 2
}
