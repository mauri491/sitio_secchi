{
 "cells": [
  {
   "cell_type": "code",
   "execution_count": 6,
   "metadata": {},
   "outputs": [],
   "source": [
    "import pandas as pd\n",
    "# Rutas a los archivos CSV\n",
    "archivo_reflectancias = \"..\\\\datos\\\\base_de_datos_gis.csv\"  # contiene: fecha,punto,pixel,banda,reflect,longitud,latitud\n",
    "archivo_parametros = \"..\\\\datos\\\\base_de_datos_lab.csv\"     # contiene: fecha,longitud,latitud,param,valor\n",
    "\n",
    "# Leer los archivos\n",
    "df_reflect = pd.read_csv(archivo_reflectancias)\n",
    "df_param = pd.read_csv(archivo_parametros)\n",
    "\n",
    "# Filtrar los parámetros \"secchi\"\n",
    "df_secchi = df_param[df_param[\"param\"].str.lower() == \"secchi\"]\n",
    "\n",
    "# Merge por fecha y coordenadas\n",
    "merged = pd.merge(\n",
    "    df_secchi,\n",
    "    df_reflect,\n",
    "    on=[\"fecha\", \"latitud\", \"longitud\"],\n",
    "    how=\"inner\"\n",
    ")\n",
    "\n",
    "# Pivotear la tabla para poner bandas como columnas\n",
    "tabla_final = merged.pivot_table(\n",
    "    index=[\"param\", \"fecha\", \"longitud\", \"latitud\", \"valor\"], \n",
    "    columns=\"banda\",\n",
    "    values=\"reflect\"\n",
    ").reset_index()\n",
    "\n",
    "# Reordenar columnas: param | B01 | B02 | ... | B8A\n",
    "bandas = ['B01', 'B02', 'B03', 'B04', 'B05', 'B06', 'B07', 'B08', 'B11', 'B12', 'B8A']\n",
    "columnas_finales = ['valor'] + bandas\n",
    "\n",
    "# Crear Tabla final\n",
    "df = tabla_final[columnas_finales]"
   ]
  }
 ],
 "metadata": {
  "kernelspec": {
   "display_name": ".venv",
   "language": "python",
   "name": "python3"
  },
  "language_info": {
   "codemirror_mode": {
    "name": "ipython",
    "version": 3
   },
   "file_extension": ".py",
   "mimetype": "text/x-python",
   "name": "python",
   "nbconvert_exporter": "python",
   "pygments_lexer": "ipython3",
   "version": "3.12.6"
  }
 },
 "nbformat": 4,
 "nbformat_minor": 2
}
